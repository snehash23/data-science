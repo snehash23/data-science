{
 "cells": [
  {
   "cell_type": "raw",
   "id": "ac3bcf4f-91cb-4c3c-ac03-a948d52c3b31",
   "metadata": {},
   "source": [
    "Q1. create one variable containing following types of data:"
   ]
  },
  {
   "cell_type": "raw",
   "id": "bcda3cdd-ee55-4cd3-934f-ac2de6dd9035",
   "metadata": {},
   "source": [
    "(1) string"
   ]
  },
  {
   "cell_type": "code",
   "execution_count": 1,
   "id": "730e6dfa-3afe-4f9c-93e3-272ba1261667",
   "metadata": {},
   "outputs": [],
   "source": [
    "a=\"kiki\""
   ]
  },
  {
   "cell_type": "code",
   "execution_count": 3,
   "id": "276dd73f-c6c8-47ab-b276-bfbd2511ebd9",
   "metadata": {},
   "outputs": [
    {
     "data": {
      "text/plain": [
       "str"
      ]
     },
     "execution_count": 3,
     "metadata": {},
     "output_type": "execute_result"
    }
   ],
   "source": [
    "type(a)"
   ]
  },
  {
   "cell_type": "raw",
   "id": "0d8a3e93-076d-4558-a7bc-ce760b753ce0",
   "metadata": {},
   "source": [
    "(2) list"
   ]
  },
  {
   "cell_type": "code",
   "execution_count": 4,
   "id": "27df01f2-e044-4d77-be59-0d8d556f05b3",
   "metadata": {},
   "outputs": [],
   "source": [
    "b=[1,2,3, \"hello\", True, 23.09]"
   ]
  },
  {
   "cell_type": "code",
   "execution_count": 5,
   "id": "0bbea15e-eb3c-484a-8638-b9e44b9c11f7",
   "metadata": {},
   "outputs": [
    {
     "data": {
      "text/plain": [
       "list"
      ]
     },
     "execution_count": 5,
     "metadata": {},
     "output_type": "execute_result"
    }
   ],
   "source": [
    "type(b)"
   ]
  },
  {
   "cell_type": "raw",
   "id": "4a1afefd-6bc3-4e6e-8f72-62d673ef60d5",
   "metadata": {},
   "source": [
    "(3) float "
   ]
  },
  {
   "cell_type": "code",
   "execution_count": 6,
   "id": "bb74756c-89f1-4df3-b7d3-a64c25093861",
   "metadata": {},
   "outputs": [],
   "source": [
    "c= 34.87"
   ]
  },
  {
   "cell_type": "code",
   "execution_count": 7,
   "id": "6084b309-9f49-4ca6-913f-fc8b71f05699",
   "metadata": {},
   "outputs": [
    {
     "data": {
      "text/plain": [
       "float"
      ]
     },
     "execution_count": 7,
     "metadata": {},
     "output_type": "execute_result"
    }
   ],
   "source": [
    "type(c)"
   ]
  },
  {
   "cell_type": "raw",
   "id": "d99930c6-979e-432d-876e-c1bea9db9fee",
   "metadata": {},
   "source": [
    "(4) tuple"
   ]
  },
  {
   "cell_type": "code",
   "execution_count": 8,
   "id": "ed9de092-ace6-4626-aa2a-104646fe3f45",
   "metadata": {},
   "outputs": [],
   "source": [
    "d= (1,2,3, 12.30)"
   ]
  },
  {
   "cell_type": "code",
   "execution_count": 9,
   "id": "a1792f30-f1ea-4b55-8fa8-419dc83b86ea",
   "metadata": {},
   "outputs": [
    {
     "data": {
      "text/plain": [
       "tuple"
      ]
     },
     "execution_count": 9,
     "metadata": {},
     "output_type": "execute_result"
    }
   ],
   "source": [
    "type(d)"
   ]
  },
  {
   "cell_type": "raw",
   "id": "dedd195a-5767-48c1-b207-e27c0fd64157",
   "metadata": {},
   "source": [
    "Q2. given are some following variables containing data: \n",
    "what will be the data type of the given variable."
   ]
  },
  {
   "cell_type": "raw",
   "id": "a379afde-143d-47b1-afc2-4832ad7ee274",
   "metadata": {},
   "source": [
    "(1) var1=' '"
   ]
  },
  {
   "cell_type": "code",
   "execution_count": 10,
   "id": "871afe93-cc61-43f1-9f10-b3b54701942f",
   "metadata": {},
   "outputs": [],
   "source": [
    "var1='world'"
   ]
  },
  {
   "cell_type": "code",
   "execution_count": 11,
   "id": "fcd91b2a-398d-42c2-83b7-ebf85eeb52a0",
   "metadata": {},
   "outputs": [
    {
     "data": {
      "text/plain": [
       "str"
      ]
     },
     "execution_count": 11,
     "metadata": {},
     "output_type": "execute_result"
    }
   ],
   "source": [
    "type(var1)"
   ]
  },
  {
   "cell_type": "raw",
   "id": "09272d16-c191-47a8-841f-3539104e4858",
   "metadata": {},
   "source": [
    "(2) var2='[DS,ML,Python]'"
   ]
  },
  {
   "cell_type": "code",
   "execution_count": 12,
   "id": "6441009d-7f92-4858-b4b2-68b674d20b52",
   "metadata": {},
   "outputs": [],
   "source": [
    "var2='[DS,ML,Python]'"
   ]
  },
  {
   "cell_type": "code",
   "execution_count": 13,
   "id": "085dd127-79d6-428c-a0c3-cb7684c58ee8",
   "metadata": {},
   "outputs": [
    {
     "data": {
      "text/plain": [
       "str"
      ]
     },
     "execution_count": 13,
     "metadata": {},
     "output_type": "execute_result"
    }
   ],
   "source": [
    "type(var2)"
   ]
  },
  {
   "cell_type": "raw",
   "id": "36de0ba5-005e-4501-b863-fe4e54a9a27c",
   "metadata": {},
   "source": [
    "(3) var3=['DS','ML','Python']"
   ]
  },
  {
   "cell_type": "code",
   "execution_count": 14,
   "id": "504e257e-e54e-4daf-a038-1a2029e92e07",
   "metadata": {},
   "outputs": [],
   "source": [
    "var3=['DS','ML','Python']"
   ]
  },
  {
   "cell_type": "code",
   "execution_count": 15,
   "id": "092ef9d2-b7a5-43d7-bd21-640cf08038e1",
   "metadata": {},
   "outputs": [
    {
     "data": {
      "text/plain": [
       "list"
      ]
     },
     "execution_count": 15,
     "metadata": {},
     "output_type": "execute_result"
    }
   ],
   "source": [
    "type(var3)"
   ]
  },
  {
   "cell_type": "raw",
   "id": "8c4d38be-959f-4285-9a0b-11adad7fa9cc",
   "metadata": {},
   "source": [
    "(4) var4=1"
   ]
  },
  {
   "cell_type": "code",
   "execution_count": 16,
   "id": "3429b155-e3ab-4d03-8e18-2901bc3f7af0",
   "metadata": {},
   "outputs": [],
   "source": [
    "var4=1"
   ]
  },
  {
   "cell_type": "code",
   "execution_count": 17,
   "id": "c3466179-2c70-4b62-a735-ec31cab073ad",
   "metadata": {},
   "outputs": [
    {
     "data": {
      "text/plain": [
       "int"
      ]
     },
     "execution_count": 17,
     "metadata": {},
     "output_type": "execute_result"
    }
   ],
   "source": [
    "type(var4)"
   ]
  },
  {
   "cell_type": "raw",
   "id": "38736c2a-af3d-451e-bb63-d1370f0abb1e",
   "metadata": {},
   "source": [
    "Q3. explain the use of the following operators using an example:"
   ]
  },
  {
   "cell_type": "raw",
   "id": "e8248c64-117e-4128-8ad8-8a57053a35f8",
   "metadata": {},
   "source": [
    "(1) / "
   ]
  },
  {
   "cell_type": "raw",
   "id": "d563c54c-f517-4e68-adf9-6e92e879d9d6",
   "metadata": {},
   "source": [
    "Division. divides the first operand by the second."
   ]
  },
  {
   "cell_type": "code",
   "execution_count": 19,
   "id": "fcbb92e6-1298-4a69-a147-fb7da18e8dbd",
   "metadata": {},
   "outputs": [
    {
     "data": {
      "text/plain": [
       "2.0"
      ]
     },
     "execution_count": 19,
     "metadata": {},
     "output_type": "execute_result"
    }
   ],
   "source": [
    "e=40\n",
    "f=20\n",
    "e/f"
   ]
  },
  {
   "cell_type": "raw",
   "id": "a72a3492-7c3c-4736-a738-1a11e66f5d82",
   "metadata": {},
   "source": [
    "(2) %"
   ]
  },
  {
   "cell_type": "markdown",
   "id": "6509b114-89b0-4317-941b-15013e53ef4b",
   "metadata": {},
   "source": [
    "Modulus. returns the remainder when the first operand is divided by second."
   ]
  },
  {
   "cell_type": "code",
   "execution_count": 20,
   "id": "ced1ee5e-7d7d-4e79-b9cb-7ed02de2ca5a",
   "metadata": {},
   "outputs": [
    {
     "data": {
      "text/plain": [
       "3"
      ]
     },
     "execution_count": 20,
     "metadata": {},
     "output_type": "execute_result"
    }
   ],
   "source": [
    "g=15\n",
    "h=4\n",
    "g%h"
   ]
  },
  {
   "cell_type": "raw",
   "id": "ce9f2d80-6c82-4e82-8bac-f55062ac6176",
   "metadata": {},
   "source": [
    "(3) //"
   ]
  },
  {
   "cell_type": "raw",
   "id": "bbdaabba-152e-440c-9d82-1c80b7793f4d",
   "metadata": {},
   "source": [
    "floor division. "
   ]
  },
  {
   "cell_type": "code",
   "execution_count": 21,
   "id": "df1cc41c-63e2-4cd6-a265-54152b773f78",
   "metadata": {},
   "outputs": [
    {
     "data": {
      "text/plain": [
       "6"
      ]
     },
     "execution_count": 21,
     "metadata": {},
     "output_type": "execute_result"
    }
   ],
   "source": [
    "i=20\n",
    "f=3\n",
    "i//f"
   ]
  },
  {
   "cell_type": "raw",
   "id": "95cac5c0-54cc-4e24-9ba2-742db50f32e3",
   "metadata": {},
   "source": [
    "(4) **"
   ]
  },
  {
   "cell_type": "raw",
   "id": "cac93ee0-6ad2-436d-8565-a0878ccbd230",
   "metadata": {},
   "source": [
    "Exponentiation. returns first raised to power second."
   ]
  },
  {
   "cell_type": "code",
   "execution_count": 22,
   "id": "af62efcf-4539-48b5-9672-cf9b6177681d",
   "metadata": {},
   "outputs": [
    {
     "data": {
      "text/plain": [
       "25"
      ]
     },
     "execution_count": 22,
     "metadata": {},
     "output_type": "execute_result"
    }
   ],
   "source": [
    "g=5\n",
    "h=2\n",
    "g**h"
   ]
  },
  {
   "cell_type": "raw",
   "id": "26e02559-9a3e-4c69-997d-f8deae84ce51",
   "metadata": {},
   "source": [
    "Q4. create a list of length 10 of your choice containing multiple types of data. Using for loop print the element and its data type."
   ]
  },
  {
   "cell_type": "code",
   "execution_count": 29,
   "id": "6af8ecbe-f31d-4bd7-9d59-1ba2e2e51873",
   "metadata": {},
   "outputs": [],
   "source": [
    "s = [1,2,3,4, 23.56, True, 'world', False, 45.67, 'skills']"
   ]
  },
  {
   "cell_type": "code",
   "execution_count": 31,
   "id": "ead16be3-40f0-4ca0-80a6-673044e23d4f",
   "metadata": {},
   "outputs": [
    {
     "name": "stdout",
     "output_type": "stream",
     "text": [
      "<class 'int'>\n",
      "<class 'int'>\n",
      "<class 'int'>\n",
      "<class 'int'>\n",
      "<class 'float'>\n",
      "<class 'bool'>\n",
      "<class 'str'>\n",
      "<class 'bool'>\n",
      "<class 'float'>\n",
      "<class 'str'>\n"
     ]
    }
   ],
   "source": [
    "for i in s:\n",
    "    print(type(i))"
   ]
  },
  {
   "cell_type": "markdown",
   "id": "78bd4a1d-b615-4b0a-b58e-d2bd90d49203",
   "metadata": {},
   "source": [
    "Q6. create a list containing 25 int type data. using for loop and if-else condition print if the element is divisible by 3 or not."
   ]
  },
  {
   "cell_type": "code",
   "execution_count": 2,
   "id": "848937f3-3e87-471a-9803-caaff06a039f",
   "metadata": {},
   "outputs": [],
   "source": [
    "l=[1,2,3,4,5,6,7,8,9,10,11,12,13,14,15,16,17,18,19,20,21,22,23,24,25]"
   ]
  },
  {
   "cell_type": "code",
   "execution_count": 4,
   "id": "0b20e501-6e1c-42ad-b796-22468108facb",
   "metadata": {},
   "outputs": [
    {
     "name": "stdout",
     "output_type": "stream",
     "text": [
      "3\n",
      "6\n",
      "9\n",
      "12\n",
      "15\n",
      "18\n",
      "21\n",
      "24\n"
     ]
    }
   ],
   "source": [
    "for i in l:\n",
    "    if i%3==0:\n",
    "        print(i)\n",
    "    "
   ]
  },
  {
   "cell_type": "raw",
   "id": "a167b193-7dab-4528-a2a7-d6e88f0bb650",
   "metadata": {},
   "source": [
    "Q7. what do you understand about mutable and immutable data type? give example for both showing this property."
   ]
  },
  {
   "cell_type": "markdown",
   "id": "36bbe159-6bf0-4f7e-8a02-2758833926ab",
   "metadata": {},
   "source": [
    "mutable data refers to a database structure in which data can be changed.it replace the previous data record. example list,dictionary,set."
   ]
  },
  {
   "cell_type": "code",
   "execution_count": 5,
   "id": "5e80f653-f416-4471-9621-975265a69bb8",
   "metadata": {},
   "outputs": [],
   "source": [
    "l1=[1,2,3,4,5]"
   ]
  },
  {
   "cell_type": "code",
   "execution_count": 6,
   "id": "f59f6031-1dc5-4e0c-974c-e9246b7aa3c0",
   "metadata": {},
   "outputs": [],
   "source": [
    "l1[1]=7"
   ]
  },
  {
   "cell_type": "code",
   "execution_count": 7,
   "id": "04d1a2fc-c1e7-44da-81d8-dcc268345382",
   "metadata": {},
   "outputs": [
    {
     "data": {
      "text/plain": [
       "[1, 7, 3, 4, 5]"
      ]
     },
     "execution_count": 7,
     "metadata": {},
     "output_type": "execute_result"
    }
   ],
   "source": [
    "l1"
   ]
  },
  {
   "cell_type": "markdown",
   "id": "85a96e04-295a-485d-a644-bf1aa3780555",
   "metadata": {},
   "source": [
    "immutable data refers to objects that cannot be modified after they have been created. example strings tuples, etc."
   ]
  },
  {
   "cell_type": "code",
   "execution_count": 8,
   "id": "e4aef6e6-9f8e-4b55-b8e1-d0046a06ee99",
   "metadata": {},
   "outputs": [],
   "source": [
    "l2=(1,2,3,4,5)"
   ]
  },
  {
   "cell_type": "code",
   "execution_count": 10,
   "id": "9e7ced9f-5d78-4c34-8425-ae29270cd49e",
   "metadata": {},
   "outputs": [
    {
     "ename": "TypeError",
     "evalue": "'tuple' object does not support item assignment",
     "output_type": "error",
     "traceback": [
      "\u001b[0;31m---------------------------------------------------------------------------\u001b[0m",
      "\u001b[0;31mTypeError\u001b[0m                                 Traceback (most recent call last)",
      "Cell \u001b[0;32mIn[10], line 1\u001b[0m\n\u001b[0;32m----> 1\u001b[0m \u001b[43ml2\u001b[49m\u001b[43m[\u001b[49m\u001b[38;5;241;43m1\u001b[39;49m\u001b[43m]\u001b[49m\u001b[38;5;241m=\u001b[39m\u001b[38;5;241m3\u001b[39m\n",
      "\u001b[0;31mTypeError\u001b[0m: 'tuple' object does not support item assignment"
     ]
    }
   ],
   "source": [
    "l2[1]=3"
   ]
  },
  {
   "cell_type": "code",
   "execution_count": null,
   "id": "2c1f5a00-b805-432f-9d42-aca2143bd191",
   "metadata": {},
   "outputs": [],
   "source": []
  }
 ],
 "metadata": {
  "kernelspec": {
   "display_name": "Python 3 (ipykernel)",
   "language": "python",
   "name": "python3"
  },
  "language_info": {
   "codemirror_mode": {
    "name": "ipython",
    "version": 3
   },
   "file_extension": ".py",
   "mimetype": "text/x-python",
   "name": "python",
   "nbconvert_exporter": "python",
   "pygments_lexer": "ipython3",
   "version": "3.10.8"
  }
 },
 "nbformat": 4,
 "nbformat_minor": 5
}
